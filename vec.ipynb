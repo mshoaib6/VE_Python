{
  "nbformat": 4,
  "nbformat_minor": 0,
  "metadata": {
    "colab": {
      "name": "Assignment 3.ipynb",
      "provenance": [],
      "collapsed_sections": []
    },
    "kernelspec": {
      "name": "python3",
      "display_name": "Python 3"
    },
    "language_info": {
      "name": "python"
    },
    "accelerator": "GPU"
  },
  "cells": [
    {
      "cell_type": "code",
      "metadata": {
        "colab": {
          "base_uri": "https://localhost:8080/"
        },
        "id": "ZU14AmvIF-74",
        "outputId": "09f6eeee-cc2c-480c-e37a-11ee457f048c"
      },
      "source": [
        "from google.colab import drive\n",
        "drive.mount('/content/gdrive')"
      ],
      "execution_count": 17,
      "outputs": [
        {
          "output_type": "stream",
          "text": [
            "Drive already mounted at /content/gdrive; to attempt to forcibly remount, call drive.mount(\"/content/gdrive\", force_remount=True).\n"
          ],
          "name": "stdout"
        }
      ]
    },
    {
      "cell_type": "code",
      "metadata": {
        "id": "Xw3HN16MJLIG"
      },
      "source": [
        "cd gdrive/MyDrive/Colab\\ Notebooks/\"Assignment 3\""
      ],
      "execution_count": null,
      "outputs": []
    },
    {
      "cell_type": "code",
      "metadata": {
        "colab": {
          "base_uri": "https://localhost:8080/"
        },
        "id": "mEWXp84cJiAU",
        "outputId": "18ade50c-a129-407d-d59e-cb4960d938dc"
      },
      "source": [
        "from moviepy.editor import VideoFileClip, concatenate_videoclips, clips_array, CompositeVideoClip, vfx, afx\n",
        "import moviepy.video.fx.all as vfx\n",
        "from math import sin, pi\n",
        "import numpy as np\n",
        "\n",
        "video = VideoFileClip(\"paul_dance.mp4\")\n",
        "video2 = VideoFileClip(\"title_song.mp4\")\n",
        "video3 = VideoFileClip(\"julia.mp4\")\n",
        "\n",
        "out_vid = video\n",
        "out_vid = vfx.mirror_x(out_vid)          #effect 1         \n",
        "out_vid = vfx.blackwhite(out_vid)        #effect 2\n",
        "out_vid = vfx.fadein(out_vid, 2.0)       #effect 3           \n",
        "\n",
        "def myblink(get_frame, t):               #bonus: defining my own function\n",
        "  frame = get_frame(t) \n",
        "  scale = (0.7 + 2*sin(t*pi))\n",
        "  frame = frame*scale\n",
        "  frame = frame.astype(np.int8) \n",
        "  return frame\n",
        "\n",
        "out_vid = concatenate_videoclips([out_vid, video2.fl(myblink)])  #concatenate\n",
        "out_vid = clips_array([[out_vid, video2], [video2, out_vid]])\n",
        "out_vid = out_vid.resize(0.5)                        #saving disk space\n",
        "out_vid = CompositeVideoClip([out_vid, video3.resize(0.5)])\n",
        "out_vid = afx.audio_fadein(out_vid, 1)            #bonus: audio_fadein\n",
        "out_vid = afx.audio_fadeout(out_vid, 17.5)        #bonus: audio_fadeout\n",
        "\n",
        "out_vid = vfx.freeze(out_vid, 18, 0.5)               #effect 4\n",
        "\n",
        "out_vid.write_videofile(\"18079999_video.mp4\")"
      ],
      "execution_count": 19,
      "outputs": [
        {
          "output_type": "stream",
          "text": [
            "[MoviePy] >>>> Building video 18079999_video.mp4\n",
            "[MoviePy] Writing audio in 18079999_videoTEMP_MPY_wvf_snd.mp3\n"
          ],
          "name": "stdout"
        },
        {
          "output_type": "stream",
          "text": [
            "100%|██████████| 459/459 [00:00<00:00, 481.06it/s]"
          ],
          "name": "stderr"
        },
        {
          "output_type": "stream",
          "text": [
            "[MoviePy] Done.\n",
            "[MoviePy] Writing video 18079999_video.mp4\n"
          ],
          "name": "stdout"
        },
        {
          "output_type": "stream",
          "text": [
            "\n",
            "100%|██████████| 499/499 [01:43<00:00,  4.84it/s]\n"
          ],
          "name": "stderr"
        },
        {
          "output_type": "stream",
          "text": [
            "[MoviePy] Done.\n",
            "[MoviePy] >>>> Video ready: 18079999_video.mp4 \n",
            "\n"
          ],
          "name": "stdout"
        }
      ]
    }
  ]
}